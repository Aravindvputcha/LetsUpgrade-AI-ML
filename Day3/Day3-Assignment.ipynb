{
 "cells": [
  {
   "cell_type": "markdown",
   "metadata": {},
   "source": [
    "# Question 1 :\n",
    "__Write a program to subtract two complex numbers in Python.__\n"
   ]
  },
  {
   "cell_type": "code",
   "execution_count": 7,
   "metadata": {},
   "outputs": [
    {
     "name": "stdout",
     "output_type": "stream",
     "text": [
      "Subtraction is :  (5+2j)\n"
     ]
    }
   ],
   "source": [
    "def subComplex( z1, z2): \n",
    "    return z1 - z2 \n",
    "  \n",
    "z1 = 6+4j \n",
    "z2 = 1+2j \n",
    "print( \"Subtraction is : \", subComplex(z1, z2))"
   ]
  },
  {
   "cell_type": "markdown",
   "metadata": {},
   "source": [
    "# Question 2 :\n",
    "__Write a program to find the fourth root of a number.__"
   ]
  },
  {
   "cell_type": "code",
   "execution_count": 10,
   "metadata": {},
   "outputs": [
    {
     "data": {
      "text/plain": [
       "4.0"
      ]
     },
     "execution_count": 10,
     "metadata": {},
     "output_type": "execute_result"
    }
   ],
   "source": [
    "def nth_root(number, root):\n",
    "    return number ** (1/root)\n",
    "\n",
    "nth_root(256,4)"
   ]
  },
  {
   "cell_type": "markdown",
   "metadata": {},
   "source": [
    "# Question 3:\n",
    "__Write a program to swap two numbers in Python with the help of a temporary variable.__\n"
   ]
  },
  {
   "cell_type": "code",
   "execution_count": 14,
   "metadata": {},
   "outputs": [
    {
     "name": "stdout",
     "output_type": "stream",
     "text": [
      "The value of num1 before swapping: 10\n",
      "The value of num2 before swapping: 20\n",
      "The value of num1 after swapping: 20\n",
      "The value of num2 after swapping: 10\n"
     ]
    }
   ],
   "source": [
    "def swap(num1,num2):\n",
    "    temp= num1\n",
    "    num1= num2\n",
    "    num2= temp\n",
    "    \n",
    "    print('The value of num1 after swapping: {}'.format(num1))\n",
    "    print('The value of num2 after swapping: {}'.format(num2))\n",
    "\n",
    "num1 = 10\n",
    "num2 = 20\n",
    "print('The value of num1 before swapping: {}'.format(num1))\n",
    "print('The value of num2 before swapping: {}'.format(num2))\n",
    "swap(num1,num2)\n",
    "\n"
   ]
  },
  {
   "cell_type": "markdown",
   "metadata": {},
   "source": [
    "# Question 4:\n",
    "__Write a program to swap two numbers in Python without using a temporary variable__"
   ]
  },
  {
   "cell_type": "code",
   "execution_count": 16,
   "metadata": {},
   "outputs": [
    {
     "name": "stdout",
     "output_type": "stream",
     "text": [
      "The value of num1 before swapping: 40\n",
      "The value of num2 before swapping: 80\n",
      "The value of num1 after swapping: 80\n",
      "The value of num2 after swapping: 40\n"
     ]
    }
   ],
   "source": [
    "def swap(num1,num2):\n",
    "    num1=num1+num2\n",
    "    num2= num1-num2\n",
    "    num1= num1-num2 \n",
    "    \n",
    "    print('The value of num1 after swapping: {}'.format(num1))\n",
    "    print('The value of num2 after swapping: {}'.format(num2))\n",
    "\n",
    "num1 = 40\n",
    "num2 = 80\n",
    "print('The value of num1 before swapping: {}'.format(num1))\n",
    "print('The value of num2 before swapping: {}'.format(num2))\n",
    "swap(num1,num2)"
   ]
  },
  {
   "cell_type": "markdown",
   "metadata": {},
   "source": [
    "# Question 5:\n",
    "__Write a program to convert fahrenheit to kelvin and celsius both__"
   ]
  },
  {
   "cell_type": "code",
   "execution_count": 20,
   "metadata": {},
   "outputs": [
    {
     "name": "stdout",
     "output_type": "stream",
     "text": [
      "Temperature in Kelvin ( K ) = 311.27777777777777 \n",
      "Temperature in Celcius ( K ) = 37.77777777777778\n"
     ]
    }
   ],
   "source": [
    "def Fahrenheit_to_Kelvin(F): \n",
    "    return 273.5 + ((F - 32.0) * (5.0/9.0)) \n",
    "\n",
    "def Fahrenheit_to_Celcius(F):\n",
    "    return (F - 32) * 5/9\n",
    "\n",
    "\n",
    "F = 100\n",
    "print(\"Temperature in Kelvin ( K ) = {} \" \n",
    "            .format(Fahrenheit_to_Kelvin( F )))\n",
    "print(\"Temperature in Celcius ( K ) = {}\" \n",
    "            .format(Fahrenheit_to_Celcius( F )))\n"
   ]
  },
  {
   "cell_type": "markdown",
   "metadata": {},
   "source": [
    "# Question 6:\n",
    "__Write a program to demonstrate all the available data types in Python. Hint: Use type() function.__\n"
   ]
  },
  {
   "cell_type": "code",
   "execution_count": 23,
   "metadata": {},
   "outputs": [
    {
     "name": "stdout",
     "output_type": "stream",
     "text": [
      "Value 10 is of type <class 'int'> \n",
      "Value Aravind is of type <class 'str'> \n",
      "Value 10.0 is of type <class 'float'> \n",
      "Value (3+5j) is of type <class 'complex'> \n",
      "Value True is of type <class 'bool'> \n"
     ]
    }
   ],
   "source": [
    "a= 10\n",
    "print(\"Value {} is of type {} \". format(a, type(a)))\n",
    "a= \"Aravind\"\n",
    "print(\"Value {} is of type {} \". format(a, type(a)))\n",
    "a= 10.0000\n",
    "print(\"Value {} is of type {} \". format(a, type(a)))\n",
    "a= 3+5j\n",
    "print(\"Value {} is of type {} \". format(a, type(a)))\n",
    "a= True\n",
    "print(\"Value {} is of type {} \". format(a, type(a)))\n",
    "\n"
   ]
  },
  {
   "cell_type": "markdown",
   "metadata": {},
   "source": [
    "# Question 7:\n",
    "\n",
    "__Create a Markdown cell in jupyter and list the steps discussed in the session by Dr. Darshan\n",
    "Ingle sir to create Github profile and upload Githubs Assignment link__"
   ]
  },
  {
   "cell_type": "markdown",
   "metadata": {},
   "source": [
    "Create Github with registered Email Address\n",
    "\n",
    "Create a GITHUB project with name __LetsUpgrade-AI-ML__ and make it public\n",
    "\n",
    "upload the folder with day name along  .ipynb to that you created for assignement\n",
    "\n",
    "click on survey and give all details"
   ]
  },
  {
   "cell_type": "code",
   "execution_count": null,
   "metadata": {},
   "outputs": [],
   "source": []
  }
 ],
 "metadata": {
  "kernelspec": {
   "display_name": "Python 3",
   "language": "python",
   "name": "python3"
  },
  "language_info": {
   "codemirror_mode": {
    "name": "ipython",
    "version": 3
   },
   "file_extension": ".py",
   "mimetype": "text/x-python",
   "name": "python",
   "nbconvert_exporter": "python",
   "pygments_lexer": "ipython3",
   "version": "3.7.6"
  }
 },
 "nbformat": 4,
 "nbformat_minor": 4
}
