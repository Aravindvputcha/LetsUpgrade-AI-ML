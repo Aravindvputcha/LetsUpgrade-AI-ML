{
 "cells": [
  {
   "cell_type": "markdown",
   "metadata": {},
   "source": [
    "# Question 1 :\n",
    "__Write a Python program to find the first 20 non-even prime natural numbers.__\n",
    "\n"
   ]
  },
  {
   "cell_type": "code",
   "execution_count": 11,
   "metadata": {},
   "outputs": [
    {
     "name": "stdout",
     "output_type": "stream",
     "text": [
      "[3, 5, 7, 11, 13, 17, 19, 23, 29, 31, 37, 41, 43, 47, 53, 59, 61, 67, 71, 73]\n"
     ]
    }
   ],
   "source": [
    "mylist=[]\n",
    "\n",
    "for i in range (1,101):\n",
    "    count=0\n",
    "    for j in range(1,i+1):\n",
    "        if(i%j==0):\n",
    "            count=count+1\n",
    "    if count==2 and i%2!=0 and len(mylist)<20:\n",
    "       mylist.append(i)\n",
    "    \n",
    "\n",
    "print(mylist)"
   ]
  },
  {
   "cell_type": "markdown",
   "metadata": {},
   "source": [
    "# Question 2 :\n",
    "__Write a Python program to implement 15 functions of string.__\n"
   ]
  },
  {
   "cell_type": "code",
   "execution_count": 37,
   "metadata": {
    "scrolled": true
   },
   "outputs": [
    {
     "name": "stdout",
     "output_type": "stream",
     "text": [
      "Aravind Putcha\n",
      "ARAVIND PUTCHA\n",
      "aravind putcha\n",
      "False\n",
      "14\n",
      "Aravind Putcha\n",
      "['Aravind Putcha']\n",
      "My name is Aravind, and I am 10\n",
      "Aravind putcha\n",
      "False\n",
      "False\n",
      "True\n",
      "A\n",
      "Aaavind Putcha\n",
      "HelloWorld\n",
      "2\n"
     ]
    }
   ],
   "source": [
    "mystring= \"Aravind Putcha\"\n",
    "print(mystring)\n",
    "print(mystring.upper())\n",
    "print(mystring.lower())\n",
    "print(mystring.isalpha())\n",
    "print(len(mystring))\n",
    "print(mystring.strip(\" \"))\n",
    "print(mystring.split(\",\"))\n",
    "txt = \"My name is Aravind, and I am {}\"\n",
    "print(txt.format(10))\n",
    "print(mystring.capitalize())\n",
    "print(mystring.isdigit())\n",
    "print(mystring.isnumeric())\n",
    "print(mystring.isprintable())\n",
    "print(mystring.join(\"A\"))\n",
    "print(mystring.replace(\"r\",\"a\"))\n",
    "a = \"Hello\"\n",
    "b = \"World\"\n",
    "print(a+b)\n",
    "print(mystring.find(\"a\"))\n",
    "\n"
   ]
  },
  {
   "cell_type": "markdown",
   "metadata": {},
   "source": [
    "# Question 3:\n",
    "__Write a Python program to check if the given string is a Palindrome or Anagram or None of them.\n",
    "Display the message accordingly to the user.__\n",
    "\n"
   ]
  },
  {
   "cell_type": "code",
   "execution_count": 39,
   "metadata": {},
   "outputs": [
    {
     "name": "stdout",
     "output_type": "stream",
     "text": [
      "It is palandrome\n",
      "Not palandrome , As we are not taking 2 string as input it not Anagram \n"
     ]
    }
   ],
   "source": [
    "def isPalindrome(s): \n",
    "    if s == s[::-1] : \n",
    "        print(\"It is palandrome\") \n",
    "    else: \n",
    "        print(\"Not palandrome , As we are not taking 2 string as input it not Anagram \")\n",
    "  \n",
    "# Driver code \n",
    "s = \"malayalam\"\n",
    "isPalindrome(s) \n",
    "\n",
    "s2= \"aravind\"\n",
    "isPalindrome(s2)\n",
    "\n",
    "  \n"
   ]
  },
  {
   "cell_type": "markdown",
   "metadata": {},
   "source": [
    "# Question 4:\n",
    "__Write a Python's user defined function that removes all the additional characters from the string\n",
    "and converts it finally to lower case using built-in lower(). eg: If the string is \"Dr. Darshan Ingle\n",
    "@AI-ML Trainer\", then the output be \"drdarshaningleaimltrainer\"__\n"
   ]
  },
  {
   "cell_type": "code",
   "execution_count": 41,
   "metadata": {},
   "outputs": [
    {
     "name": "stdout",
     "output_type": "stream",
     "text": [
      "drdarshaningleaimltrainer\n"
     ]
    }
   ],
   "source": [
    "a_string= \"Dr. Darshan Ingle @AI-ML Trainer\"\n",
    "alphanumeric=\"\"\n",
    "for character in a_string:\n",
    "    if character.isalnum():\n",
    "        alphanumeric = alphanumeric + character.lower()\n",
    "print(alphanumeric)"
   ]
  },
  {
   "cell_type": "code",
   "execution_count": null,
   "metadata": {},
   "outputs": [],
   "source": []
  }
 ],
 "metadata": {
  "kernelspec": {
   "display_name": "Python 3",
   "language": "python",
   "name": "python3"
  },
  "language_info": {
   "codemirror_mode": {
    "name": "ipython",
    "version": 3
   },
   "file_extension": ".py",
   "mimetype": "text/x-python",
   "name": "python",
   "nbconvert_exporter": "python",
   "pygments_lexer": "ipython3",
   "version": "3.7.6"
  }
 },
 "nbformat": 4,
 "nbformat_minor": 4
}
